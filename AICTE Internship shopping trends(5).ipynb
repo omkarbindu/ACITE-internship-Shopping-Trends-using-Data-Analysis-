{
 "cells": [
  {
   "cell_type": "code",
   "execution_count": null,
   "id": "78e0295c-4463-454a-96cc-8acd76fa5c53",
   "metadata": {},
   "outputs": [],
   "source": [
    "!pip install WordCloud"
   ]
  },
  {
   "cell_type": "code",
   "execution_count": 1,
   "id": "dd95e186-effc-4b97-b0ae-e8746b0d4395",
   "metadata": {},
   "outputs": [],
   "source": [
    "import numpy as np  \n",
    "import pandas as pd \n",
    "import seaborn as sns \n",
    "import matplotlib.pyplot as plt \n",
    "import plotly.express as px  "
   ]
  },
  {
   "cell_type": "code",
   "execution_count": null,
   "id": "f11bb16f-554e-4695-8030-af4fa9ea4a38",
   "metadata": {},
   "outputs": [],
   "source": [
    "# reading the data set\n",
    "shop = pd.read_csv('shopping_trends_updated.csv')"
   ]
  },
  {
   "cell_type": "code",
   "execution_count": null,
   "id": "e38da79d-6eda-4acd-bb6e-e052b895fd2e",
   "metadata": {},
   "outputs": [],
   "source": [
    "shop.shape"
   ]
  },
  {
   "cell_type": "code",
   "execution_count": null,
   "id": "537ab7bd-2ac7-4804-88e1-248c3a6745ab",
   "metadata": {},
   "outputs": [],
   "source": [
    "shop.head()"
   ]
  },
  {
   "cell_type": "code",
   "execution_count": null,
   "id": "96322f5e-127f-4f9f-b896-1711cacea46c",
   "metadata": {},
   "outputs": [],
   "source": [
    "shop.dtypes"
   ]
  },
  {
   "cell_type": "code",
   "execution_count": null,
   "id": "990281eb-befd-436b-b76a-8951ac6662e1",
   "metadata": {},
   "outputs": [],
   "source": [
    "shop.columns"
   ]
  },
  {
   "cell_type": "code",
   "execution_count": null,
   "id": "1c29d84f-c18a-44da-8e0c-14afa830a2b6",
   "metadata": {},
   "outputs": [],
   "source": [
    "shop.info()"
   ]
  },
  {
   "cell_type": "code",
   "execution_count": null,
   "id": "99cba0db-6a7e-4bb7-99e8-7a9f8738e5d2",
   "metadata": {},
   "outputs": [],
   "source": [
    "shop.shape"
   ]
  },
  {
   "cell_type": "code",
   "execution_count": null,
   "id": "be10dbfb-7b2d-4451-81c4-4af918d513a0",
   "metadata": {},
   "outputs": [],
   "source": [
    "shop.isnull().sum()"
   ]
  },
  {
   "cell_type": "code",
   "execution_count": null,
   "id": "ff8ee43c-5ad9-48d8-b86c-b04e7c6b5774",
   "metadata": {},
   "outputs": [],
   "source": [
    "print(f\"The unique values of the 'Gender' column are: {shop['Gender'].unique()}\")\n",
    "print()# This will print a blank line\n",
    "print(f\"The unique values of the 'Category' column are: {shop['Category'].unique()}\")\n",
    "print()# This will print a blank line\n",
    "print(f\"The unique values of the 'Size' column are: {shop['Size'].unique()}\")\n",
    "print()# This will print a blank line\n",
    "print(f\"The unique values of the 'Subscription Status' column are: {shop['Subscription Status'].unique()}\")\n",
    "print()# This will print a blank line\n",
    "print(f\"The unique values of the 'Shipping Type' column are: {shop['Shipping Type'].unique()}\")\n",
    "print()# This will print a blank line\n",
    "print(f\"The unique values of the 'Discount Applied' column are: {shop['Discount Applied'].unique()}\")\n",
    "print()# This will print a blank line\n",
    "print(f\"The unique values of the 'Promo Code Used' column are: {shop['Promo Code Used'].unique()}\")\n",
    "print()# This will print a blank line\n",
    "print(f\"The unique values of the 'Payment Method' column are: {shop['Payment Method'].unique()}\")"
   ]
  },
  {
   "cell_type": "raw",
   "id": "796970d2-cbf8-4c98-b792-003bd8eaef48",
   "metadata": {},
   "source": [
    " 1.What is the overall distribution of customer ages in the dataset?"
   ]
  },
  {
   "cell_type": "code",
   "execution_count": null,
   "id": "99fd283a-0fd2-4833-a465-351f277ddd03",
   "metadata": {},
   "outputs": [],
   "source": [
    "shop['Age'].value_counts() #name of datframe[column].value_counts()"
   ]
  },
  {
   "cell_type": "code",
   "execution_count": null,
   "id": "b87e15e0-8e20-43fd-86c7-c79de6a62ca8",
   "metadata": {},
   "outputs": [],
   "source": [
    "shop['Age'].mean()"
   ]
  },
  {
   "cell_type": "code",
   "execution_count": null,
   "id": "66fe4dca-b2f4-4884-bb95-8e04f718e632",
   "metadata": {},
   "outputs": [],
   "source": [
    "shop['Gender'].unique()"
   ]
  },
  {
   "cell_type": "code",
   "execution_count": null,
   "id": "3b949152-7513-447b-a448-95e88110803d",
   "metadata": {},
   "outputs": [],
   "source": [
    "shop['Age_category'] = pd.cut(shop['Age'], bins= [0,15, 18 , 30 , 50 , 70] , labels= ['child' , 'teen' , 'Young Adults' ,'Middle-Aged Adults'\n",
    "                                                                                             , 'old'] )"
   ]
  },
  {
   "cell_type": "code",
   "execution_count": null,
   "id": "b37907f6-fe84-40ba-868f-eea537e0a096",
   "metadata": {},
   "outputs": [],
   "source": [
    "fig = px.histogram(shop , y = 'Age' , x = 'Age_category')\n",
    "fig.show()"
   ]
  },
  {
   "cell_type": "raw",
   "id": "6dd71737-b0ee-4981-80fb-e81b2d632658",
   "metadata": {},
   "source": [
    "\n",
    "2 How does the average purchase amount vary across different product categories?"
   ]
  },
  {
   "cell_type": "code",
   "execution_count": null,
   "id": "67f86a16-cb5e-4941-9218-0615d578eecc",
   "metadata": {},
   "outputs": [],
   "source": [
    "shop.columns"
   ]
  },
  {
   "cell_type": "code",
   "execution_count": null,
   "id": "45dcc229-b84c-49d1-8abf-8d3fa6db39b5",
   "metadata": {},
   "outputs": [],
   "source": [
    "shop['Category'].unique()"
   ]
  },
  {
   "cell_type": "code",
   "execution_count": null,
   "id": "f4885d02-f84c-4a83-baea-cefe7708db44",
   "metadata": {},
   "outputs": [],
   "source": [
    "shop[['Category','Purchase Amount (USD)']]"
   ]
  },
  {
   "cell_type": "code",
   "execution_count": null,
   "id": "f5a254ea-3b13-4a2c-8e93-f6a181ee0463",
   "metadata": {},
   "outputs": [],
   "source": [
    "shop.groupby('Category')['Purchase Amount (USD)'].sum()"
   ]
  },
  {
   "cell_type": "code",
   "execution_count": null,
   "id": "33760da6-9cd1-4cde-b698-1233ab1d1c67",
   "metadata": {},
   "outputs": [],
   "source": [
    "shop.groupby('Category')['Purchase Amount (USD)'].mean()"
   ]
  },
  {
   "cell_type": "raw",
   "id": "35b84a4c-a85f-4f85-bc62-963a672f0ea3",
   "metadata": {},
   "source": [
    "3 Which gender has the highest number of purchases?"
   ]
  },
  {
   "cell_type": "code",
   "execution_count": null,
   "id": "0b914fa2-d5e9-49ac-96d0-f561cf518ff4",
   "metadata": {},
   "outputs": [],
   "source": [
    "shop.columns"
   ]
  },
  {
   "cell_type": "code",
   "execution_count": null,
   "id": "d4ab478c-9709-4a4c-8b11-0cb05147cc3d",
   "metadata": {},
   "outputs": [],
   "source": [
    "sns.barplot(shop , x = 'Gender' , y = 'Purchase Amount (USD)')"
   ]
  },
  {
   "cell_type": "raw",
   "id": "97850193-545b-41b3-82f3-6baf45a458ab",
   "metadata": {},
   "source": [
    "4.What are the most commonly purchased items in each category?"
   ]
  },
  {
   "cell_type": "code",
   "execution_count": null,
   "id": "bf9f3588-c018-4db0-8d37-e125f8f46f86",
   "metadata": {},
   "outputs": [],
   "source": [
    "shop.columns"
   ]
  },
  {
   "cell_type": "code",
   "execution_count": null,
   "id": "226feb5e-ec3c-49ee-ae0f-ef45e5eb810e",
   "metadata": {},
   "outputs": [],
   "source": [
    "shop.groupby('Category')['Item Purchased'].value_counts()"
   ]
  },
  {
   "cell_type": "code",
   "execution_count": null,
   "id": "7bb42669-5ebf-49c5-9247-6d18cc1acf27",
   "metadata": {},
   "outputs": [],
   "source": [
    "fig = px.histogram(shop , x = 'Item Purchased' , color = 'Category')\n",
    "fig.show()"
   ]
  },
  {
   "cell_type": "raw",
   "id": "a7ba7f5f-4099-4d96-ae2c-0bda958b5e43",
   "metadata": {},
   "source": [
    "5 Are there any specific seasons or months where customer spending is significantly higher?"
   ]
  },
  {
   "cell_type": "code",
   "execution_count": null,
   "id": "3c17b411-d507-4f81-8c93-df4feafce2ef",
   "metadata": {},
   "outputs": [],
   "source": [
    "shop['Season'].unique()"
   ]
  },
  {
   "cell_type": "code",
   "execution_count": null,
   "id": "bc2e87c4-a597-4326-a3f6-2d21c8ec2a62",
   "metadata": {},
   "outputs": [],
   "source": [
    "shop['Season'].value_counts()"
   ]
  },
  {
   "cell_type": "code",
   "execution_count": null,
   "id": "5c1456ca-678b-4654-8718-9dc5758876b9",
   "metadata": {},
   "outputs": [],
   "source": [
    "fig = px.histogram(shop , x = 'Season' , range_y= [800 , 1200] )\n",
    "\n",
    "fig.show()"
   ]
  },
  {
   "cell_type": "raw",
   "id": "06b91765-7a69-494b-b5d4-cd68ff87956d",
   "metadata": {},
   "source": [
    "6 What is the average rating given by customers for each product category?"
   ]
  },
  {
   "cell_type": "code",
   "execution_count": null,
   "id": "b3ba9db0-22fa-4e05-8e4a-6cd82ef3ff86",
   "metadata": {},
   "outputs": [],
   "source": [
    "shop.groupby('Category')['Review Rating'].mean()"
   ]
  },
  {
   "cell_type": "code",
   "execution_count": null,
   "id": "2b72a27a-d1f2-41b0-82a9-56a5690fab4a",
   "metadata": {},
   "outputs": [],
   "source": [
    "shop_groupby = shop.groupby('Category')['Review Rating'].mean().reset_index()\n",
    "print(shop_groupby)"
   ]
  },
  {
   "cell_type": "code",
   "execution_count": null,
   "id": "db66a994-2b01-43bf-98cd-81cafe2f52b4",
   "metadata": {},
   "outputs": [],
   "source": [
    "fig = px.bar(shop_groupby ,x= 'Category' , y = 'Review Rating' )\n",
    "fig.show()"
   ]
  },
  {
   "cell_type": "raw",
   "id": "77f63352-7254-4b70-b9c2-e10532d61548",
   "metadata": {},
   "source": [
    "7. Are there any notable differences in purchase behavior between subscribed and non-subscribed customers?"
   ]
  },
  {
   "cell_type": "code",
   "execution_count": null,
   "id": "153054ee-24f6-406d-b565-06d6f8e09b63",
   "metadata": {},
   "outputs": [],
   "source": [
    "shop.columns"
   ]
  },
  {
   "cell_type": "code",
   "execution_count": null,
   "id": "35ec467a-78b0-4bf0-a036-b5feb70d3b36",
   "metadata": {},
   "outputs": [],
   "source": [
    "shop['Subscription Status'].value_counts()"
   ]
  },
  {
   "cell_type": "code",
   "execution_count": null,
   "id": "9a137a2e-fa16-47ab-92f8-faafe1e15f60",
   "metadata": {},
   "outputs": [],
   "source": [
    "sns.barplot(shop  , x = 'Subscription Status' , y = 'Purchase Amount (USD)')"
   ]
  },
  {
   "cell_type": "code",
   "execution_count": null,
   "id": "d6bfc86a-adf2-4f2a-a351-cce921736311",
   "metadata": {},
   "outputs": [],
   "source": [
    "shop['Purchase Amount (USD)'].sum()"
   ]
  },
  {
   "cell_type": "code",
   "execution_count": null,
   "id": "4289aa49-ad32-4d97-9fe5-9d497569e5c6",
   "metadata": {},
   "outputs": [],
   "source": [
    "shop.groupby('Subscription Status')['Purchase Amount (USD)'].mean()"
   ]
  },
  {
   "cell_type": "raw",
   "id": "389a604e-3db1-4aba-8e18-6ca53e1adb99",
   "metadata": {},
   "source": [
    "8 Which payment method is the most popular among customers?"
   ]
  },
  {
   "cell_type": "code",
   "execution_count": null,
   "id": "b96ab596-918d-41f4-a15e-cd6d7c0f3ba7",
   "metadata": {},
   "outputs": [],
   "source": [
    "shop.groupby('Payment Method')['Purchase Amount (USD)'].mean().sort_values(ascending= False)"
   ]
  },
  {
   "cell_type": "code",
   "execution_count": null,
   "id": "9c0b3151-f72b-43a9-bd49-9517dc329149",
   "metadata": {},
   "outputs": [],
   "source": [
    "shop.groupby('Payment Method')['Purchase Amount (USD)'].mean().sort_values(ascending= False)"
   ]
  },
  {
   "cell_type": "code",
   "execution_count": null,
   "id": "38ad3bce-34f0-4c1e-9aa9-c22b31f5f335",
   "metadata": {},
   "outputs": [],
   "source": [
    "sns.barplot(shop ,x='Payment Method' , y = 'Purchase Amount (USD)')\n",
    "plt.show()"
   ]
  },
  {
   "cell_type": "raw",
   "id": "6cc13162-ac50-4ae7-8502-5f68b1933dc5",
   "metadata": {},
   "source": [
    "9 Do customers who use promo codes tend to spend more than those who don't?"
   ]
  },
  {
   "cell_type": "code",
   "execution_count": null,
   "id": "f69321a2-fcef-4933-89e2-d3feff6f44b8",
   "metadata": {},
   "outputs": [],
   "source": [
    "shop_groupby  = shop.groupby('Promo Code Used')['Purchase Amount (USD)'].sum().reset_index()"
   ]
  },
  {
   "cell_type": "code",
   "execution_count": null,
   "id": "8c548a3a-911d-454e-9c3c-ea3e547d4185",
   "metadata": {},
   "outputs": [],
   "source": [
    "fig = px.sunburst(shop , path=['Gender' , 'Promo Code Used'] , values='Purchase Amount (USD)')\n",
    "fig.show()"
   ]
  },
  {
   "cell_type": "code",
   "execution_count": null,
   "id": "728db71d-24d0-4cb3-9f8a-a87021084d62",
   "metadata": {},
   "outputs": [],
   "source": [
    "fig  =  px.bar(shop_groupby , x= 'Promo Code Used' , y = 'Purchase Amount (USD)')\n",
    "fig.show()"
   ]
  },
  {
   "cell_type": "raw",
   "id": "893c21f3-c28b-493a-b0ce-3aaf1f119c2e",
   "metadata": {},
   "source": [
    "10 How does the frequency of purchases vary across different age groups?"
   ]
  },
  {
   "cell_type": "code",
   "execution_count": null,
   "id": "8e5c1322-50a8-420f-9bfe-6f0b519ca871",
   "metadata": {},
   "outputs": [],
   "source": [
    "shop[['Age' , 'Age_category']]"
   ]
  },
  {
   "cell_type": "code",
   "execution_count": null,
   "id": "54041b85-ef0e-4264-9402-3c4f48a9ef34",
   "metadata": {},
   "outputs": [],
   "source": [
    "shop['Age_category'].unique()"
   ]
  },
  {
   "cell_type": "code",
   "execution_count": null,
   "id": "3fb0fc79-7650-4d86-bdf4-a0a4acd6dc48",
   "metadata": {},
   "outputs": [],
   "source": [
    "shop_group = shop.groupby('Frequency of Purchases')['Age'].sum()"
   ]
  },
  {
   "cell_type": "code",
   "execution_count": null,
   "id": "2ad02713-53fc-463b-b870-48112836266d",
   "metadata": {},
   "outputs": [],
   "source": [
    "px.sunburst(shop , path=['Frequency of Purchases','Age_category'] , values='Age')"
   ]
  },
  {
   "cell_type": "raw",
   "id": "65660e71-63a9-4e68-8611-e3c61a0de482",
   "metadata": {},
   "source": [
    "11 Are there any correlations between the size of the product and the purchase amount"
   ]
  },
  {
   "cell_type": "code",
   "execution_count": null,
   "id": "8b25fb5c-5d71-48a9-81a6-332119c1cb25",
   "metadata": {},
   "outputs": [],
   "source": [
    "shop.columns"
   ]
  },
  {
   "cell_type": "code",
   "execution_count": null,
   "id": "524c639c-8e7a-49e8-8af8-341f3831b57a",
   "metadata": {},
   "outputs": [],
   "source": [
    "shop_group = shop.groupby('Size')['Purchase Amount (USD)'].sum().reset_index()"
   ]
  },
  {
   "cell_type": "code",
   "execution_count": null,
   "id": "163d5f6f-a992-4a7d-a546-5b432902c539",
   "metadata": {},
   "outputs": [],
   "source": [
    "fig  = px.bar(shop_group , x = 'Size' , y ='Purchase Amount (USD)'  )\n",
    "fig.show()"
   ]
  },
  {
   "cell_type": "raw",
   "id": "c4486e39-87aa-4f62-a165-0185418d26ee",
   "metadata": {},
   "source": [
    "12 Which shipping type is preferred by customers for different product categories?"
   ]
  },
  {
   "cell_type": "code",
   "execution_count": null,
   "id": "0af198c5-367d-4cb1-be88-28d38e15e3ff",
   "metadata": {},
   "outputs": [],
   "source": [
    "shop.groupby('Category')['Shipping Type'].value_counts().sort_values(ascending= False)"
   ]
  },
  {
   "cell_type": "code",
   "execution_count": null,
   "id": "6b4e3e0b-1447-47f4-9a81-5b9219c0e261",
   "metadata": {},
   "outputs": [],
   "source": [
    "shop['Category'].unique()"
   ]
  },
  {
   "cell_type": "raw",
   "id": "2a90013b-bcd1-45b9-a674-e6268208434c",
   "metadata": {},
   "source": [
    "13 How does the presence of a discount affect the purchase decision of customers?"
   ]
  },
  {
   "cell_type": "code",
   "execution_count": null,
   "id": "005e00ae-4b37-4a50-bfc1-eb2b674e982a",
   "metadata": {},
   "outputs": [],
   "source": [
    "shop.columns"
   ]
  },
  {
   "cell_type": "code",
   "execution_count": null,
   "id": "58341711-16d2-44bd-9688-08674a094650",
   "metadata": {},
   "outputs": [],
   "source": [
    "shop_group = shop.groupby('Discount Applied')['Purchase Amount (USD)'].sum().reset_index()"
   ]
  },
  {
   "cell_type": "code",
   "execution_count": null,
   "id": "6644d6a2-c8f0-46cd-a5f3-9baf487ee106",
   "metadata": {},
   "outputs": [],
   "source": [
    "px.histogram(shop_group , x = 'Discount Applied' , y = 'Purchase Amount (USD)')"
   ]
  },
  {
   "cell_type": "code",
   "execution_count": null,
   "id": "c6c507ae-b2e1-4c42-9275-50531fedb621",
   "metadata": {},
   "outputs": [],
   "source": [
    "fig = px.sunburst(shop , path = ['Gender' , 'Discount Applied'], values='Purchase Amount (USD)' , color= 'Gender')\n",
    "\n",
    "fig.show()"
   ]
  },
  {
   "cell_type": "raw",
   "id": "c032c6dd-d276-4730-86e7-c35472b765e7",
   "metadata": {},
   "source": [
    "14 Are there any specific colors that are more popular among customers?"
   ]
  },
  {
   "cell_type": "code",
   "execution_count": null,
   "id": "656891b0-b969-4284-a52d-f52fea3f95b9",
   "metadata": {},
   "outputs": [],
   "source": [
    "px.histogram(shop , x = 'Color')"
   ]
  },
  {
   "cell_type": "code",
   "execution_count": null,
   "id": "8dd91dc1-3f02-458b-969a-1f649d657591",
   "metadata": {},
   "outputs": [],
   "source": [
    "shop['Color'].value_counts().nlargest(5)"
   ]
  },
  {
   "cell_type": "raw",
   "id": "3542d57c-f2ac-4f8d-b906-c0588fea4488",
   "metadata": {},
   "source": [
    "15 What is the average number of previous purchases made by customers?"
   ]
  },
  {
   "cell_type": "code",
   "execution_count": null,
   "id": "4958cdba-4102-47c3-9be7-6780c8013be0",
   "metadata": {},
   "outputs": [],
   "source": [
    "shop['Previous Purchases'].mean()"
   ]
  },
  {
   "cell_type": "raw",
   "id": "8a9a3e8e-d98a-413e-98d3-3a5d2f60d975",
   "metadata": {},
   "source": [
    "16 Are there any noticeable differences in purchase behavior between different locations?"
   ]
  },
  {
   "cell_type": "code",
   "execution_count": null,
   "id": "d4424b5d-3038-41a4-82d2-048019ad9ad7",
   "metadata": {},
   "outputs": [],
   "source": [
    "shop.groupby('Location')['Purchase Amount (USD)'].mean().sort_values(ascending = False)"
   ]
  },
  {
   "cell_type": "code",
   "execution_count": null,
   "id": "fd91ef1d-217f-4400-a362-af4473529fd0",
   "metadata": {},
   "outputs": [],
   "source": [
    "shop_group = shop.groupby('Location')['Purchase Amount (USD)'].mean().reset_index()"
   ]
  },
  {
   "cell_type": "code",
   "execution_count": null,
   "id": "3d71bf39-244a-4fbe-9fc0-92d218108da0",
   "metadata": {},
   "outputs": [],
   "source": [
    "fig = px.bar(shop_group, x = 'Location' , y = 'Purchase Amount (USD)')\n",
    "fig.show()"
   ]
  },
  {
   "cell_type": "raw",
   "id": "d5015d19-ec62-49e5-bd8f-8a1a8f5ff537",
   "metadata": {},
   "source": [
    "17 Is there a relationship between customer age and the category of products they purchase?"
   ]
  },
  {
   "cell_type": "code",
   "execution_count": null,
   "id": "8650bb26-0981-4bf5-9ce8-41c9b12dbc80",
   "metadata": {},
   "outputs": [],
   "source": [
    "shop_group = shop.groupby('Category')['Age'].mean().reset_index()"
   ]
  },
  {
   "cell_type": "code",
   "execution_count": null,
   "id": "4c42cf22-c377-403c-89ba-f7a5e21d349b",
   "metadata": {},
   "outputs": [],
   "source": [
    "fig = px.bar(shop_group ,y = 'Age' , x= 'Category')\n",
    "fig.show()"
   ]
  },
  {
   "cell_type": "raw",
   "id": "407ea504-5e1f-48c2-974f-1343311c2ce5",
   "metadata": {},
   "source": [
    "18 How does the average purchase amount differ between male and female customers?"
   ]
  },
  {
   "cell_type": "code",
   "execution_count": null,
   "id": "78cfc546-693d-4ecb-bea1-1ecb5a01d2d0",
   "metadata": {},
   "outputs": [],
   "source": [
    "shop_group = shop.groupby('Gender')['Purchase Amount (USD)'].sum().reset_index()"
   ]
  },
  {
   "cell_type": "code",
   "execution_count": null,
   "id": "0e4bd7b9-3c37-4ecf-9297-d22c4cad19c7",
   "metadata": {},
   "outputs": [],
   "source": [
    "fig = px.bar(shop_group , x = 'Gender' , y = 'Purchase Amount (USD)')\n",
    "fig.show()"
   ]
  },
  {
   "cell_type": "code",
   "execution_count": null,
   "id": "7dd6ed1a-77b9-4297-a749-4317714e6e82",
   "metadata": {},
   "outputs": [],
   "source": [
    "px.sunburst(data_frame= shop , path = ['Gender' ,'Age_category'] , values='Purchase Amount (USD)')"
   ]
  },
  {
   "cell_type": "code",
   "execution_count": null,
   "id": "e5578a6f-52b0-49b0-a096-6984a66bbe5d",
   "metadata": {},
   "outputs": [],
   "source": []
  },
  {
   "cell_type": "code",
   "execution_count": null,
   "id": "dc575067-5ac1-4640-869b-ebe1e4416cac",
   "metadata": {},
   "outputs": [],
   "source": []
  }
 ],
 "metadata": {
  "kernelspec": {
   "display_name": "Python 3 (ipykernel)",
   "language": "python",
   "name": "python3"
  },
  "language_info": {
   "codemirror_mode": {
    "name": "ipython",
    "version": 3
   },
   "file_extension": ".py",
   "mimetype": "text/x-python",
   "name": "python",
   "nbconvert_exporter": "python",
   "pygments_lexer": "ipython3",
   "version": "3.11.4"
  }
 },
 "nbformat": 4,
 "nbformat_minor": 5
}
